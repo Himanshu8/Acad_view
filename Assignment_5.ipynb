{
 "cells": [
  {
   "cell_type": "code",
   "execution_count": 1,
   "metadata": {},
   "outputs": [],
   "source": [
    "import pandas as pd\n",
    "import numpy as np"
   ]
  },
  {
   "cell_type": "code",
   "execution_count": 14,
   "metadata": {},
   "outputs": [
    {
     "name": "stdout",
     "output_type": "stream",
     "text": [
      "WindDir9am       31\n",
      "WindSpeed9am      7\n",
      "Sunshine          3\n",
      "WindGustDir       3\n",
      "WindGustSpeed     2\n",
      "WindDir3pm        1\n",
      "RISK_MM           0\n",
      "Location          0\n",
      "MinTemp           0\n",
      "MaxTemp           0\n",
      "Rainfall          0\n",
      "Evaporation       0\n",
      "RainTomorrow      0\n",
      "WindSpeed3pm      0\n",
      "Humidity9am       0\n",
      "Humidity3pm       0\n",
      "Pressure9am       0\n",
      "Pressure3pm       0\n",
      "Cloud9am          0\n",
      "Cloud3pm          0\n",
      "Temp9am           0\n",
      "Temp3pm           0\n",
      "RainToday         0\n",
      "Date              0\n",
      "dtype: int64\n"
     ]
    }
   ],
   "source": [
    "# Question 1 ##(a)\n",
    "df=pd.read_csv('weather.csv')\n",
    "print(df.isnull().sum().sort_values(ascending=False))"
   ]
  },
  {
   "cell_type": "code",
   "execution_count": 20,
   "metadata": {},
   "outputs": [
    {
     "name": "stdout",
     "output_type": "stream",
     "text": [
      "Date             0\n",
      "Location         0\n",
      "MinTemp          0\n",
      "MaxTemp          0\n",
      "Rainfall         0\n",
      "Evaporation      0\n",
      "Sunshine         0\n",
      "WindGustDir      0\n",
      "WindGustSpeed    0\n",
      "WindDir9am       0\n",
      "WindDir3pm       0\n",
      "WindSpeed9am     0\n",
      "WindSpeed3pm     0\n",
      "Humidity9am      0\n",
      "Humidity3pm      0\n",
      "Pressure9am      0\n",
      "Pressure3pm      0\n",
      "Cloud9am         0\n",
      "Cloud3pm         0\n",
      "Temp9am          0\n",
      "Temp3pm          0\n",
      "RainToday        0\n",
      "RISK_MM          0\n",
      "RainTomorrow     0\n",
      "dtype: int64\n"
     ]
    }
   ],
   "source": [
    "# Question 1(b)\n",
    "df=df.dropna()\n",
    "print(df.isnull().sum())"
   ]
  },
  {
   "cell_type": "code",
   "execution_count": 37,
   "metadata": {},
   "outputs": [
    {
     "name": "stdout",
     "output_type": "stream",
     "text": [
      "Date              0\n",
      "Location          0\n",
      "MinTemp           0\n",
      "MaxTemp           0\n",
      "Rainfall          0\n",
      "Evaporation       0\n",
      "Sunshine          0\n",
      "WindGustDir       3\n",
      "WindGustSpeed     0\n",
      "WindDir9am       31\n",
      "WindDir3pm        1\n",
      "WindSpeed9am      0\n",
      "WindSpeed3pm      0\n",
      "Humidity9am       0\n",
      "Humidity3pm       0\n",
      "Pressure9am       0\n",
      "Pressure3pm       0\n",
      "Cloud9am          0\n",
      "Cloud3pm          0\n",
      "Temp9am           0\n",
      "Temp3pm           0\n",
      "RainToday         0\n",
      "RISK_MM           0\n",
      "RainTomorrow      0\n",
      "dtype: int64\n"
     ]
    }
   ],
   "source": [
    "#Question 1(c)\n",
    "df=pd.read_csv('weather.csv')\n",
    "df.fillna(df.mean(),inplace=True)\n",
    "print(df.isnull().sum())"
   ]
  },
  {
   "cell_type": "code",
   "execution_count": 40,
   "metadata": {},
   "outputs": [
    {
     "name": "stdout",
     "output_type": "stream",
     "text": [
      "Date              object\n",
      "Location          object\n",
      "MinTemp          float64\n",
      "MaxTemp          float64\n",
      "Rainfall         float64\n",
      "Evaporation      float64\n",
      "Sunshine         float64\n",
      "WindGustDir       object\n",
      "WindGustSpeed    float64\n",
      "WindDir9am        object\n",
      "WindDir3pm        object\n",
      "WindSpeed9am     float64\n",
      "WindSpeed3pm       int64\n",
      "Humidity9am        int64\n",
      "Humidity3pm        int64\n",
      "Pressure9am      float64\n",
      "Pressure3pm      float64\n",
      "Cloud9am           int64\n",
      "Cloud3pm           int64\n",
      "Temp9am          float64\n",
      "Temp3pm          float64\n",
      "RainToday         object\n",
      "RISK_MM          float64\n",
      "RainTomorrow      object\n",
      "dtype: object\n",
      "**************************************************\n",
      "0    24.3\n",
      "1    26.9\n",
      "2    23.4\n",
      "3    15.5\n",
      "4    16.1\n",
      "Name: MaxTemp, dtype: float64\n"
     ]
    }
   ],
   "source": [
    "# Question 1(d)\n",
    "print(df.dtypes)\n",
    "print('*'*50)\n",
    "s=pd.Series(df['MaxTemp'])\n",
    "print(s.head())"
   ]
  },
  {
   "cell_type": "code",
   "execution_count": null,
   "metadata": {},
   "outputs": [],
   "source": []
  },
  {
   "cell_type": "code",
   "execution_count": null,
   "metadata": {},
   "outputs": [],
   "source": []
  }
 ],
 "metadata": {
  "kernelspec": {
   "display_name": "Python 3",
   "language": "python",
   "name": "python3"
  },
  "language_info": {
   "codemirror_mode": {
    "name": "ipython",
    "version": 3
   },
   "file_extension": ".py",
   "mimetype": "text/x-python",
   "name": "python",
   "nbconvert_exporter": "python",
   "pygments_lexer": "ipython3",
   "version": "3.6.4"
  }
 },
 "nbformat": 4,
 "nbformat_minor": 2
}
